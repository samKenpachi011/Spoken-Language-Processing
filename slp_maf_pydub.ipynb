{
 "cells": [
  {
   "cell_type": "markdown",
   "metadata": {},
   "source": [
    "# MANIPULATING AUDIO FILES WITH PYDUB\n",
    "\n",
    "## Working with Audio files requires them to be in a consistent manner and to help to this PYDUB is needed to manipulate the audio files. PYDUB issures your audio files are consistent to work with wherever."
   ]
  },
  {
   "cell_type": "code",
   "execution_count": null,
   "metadata": {},
   "outputs": [],
   "source": [
    "# if you do not have pydub install it using also install ffmpeg\n",
    "# pip install pydub"
   ]
  },
  {
   "cell_type": "code",
   "execution_count": 1,
   "metadata": {},
   "outputs": [
    {
     "name": "stderr",
     "output_type": "stream",
     "text": [
      "C:\\Anaconda3\\lib\\site-packages\\pydub\\utils.py:165: RuntimeWarning: Couldn't find ffmpeg or avconv - defaulting to ffmpeg, but may not work\n",
      "  warn(\"Couldn't find ffmpeg or avconv - defaulting to ffmpeg, but may not work\", RuntimeWarning)\n"
     ]
    },
    {
     "data": {
      "text/plain": [
       "pydub.audio_segment.AudioSegment"
      ]
     },
     "execution_count": 1,
     "metadata": {},
     "output_type": "execute_result"
    }
   ],
   "source": [
    "# Let's import audio files using pydub's class called AudioSegment\n",
    "from pydub import AudioSegment\n",
    "wav_file = AudioSegment.from_file(file='sounds/r1_goodAfternoon.wav')\n",
    "# check type\n",
    "type(wav_file)"
   ]
  },
  {
   "cell_type": "code",
   "execution_count": null,
   "metadata": {},
   "outputs": [],
   "source": [
    "# Now we can even play the audio \n",
    "# install simple audio $pip install simpleaudio"
   ]
  },
  {
   "cell_type": "code",
   "execution_count": null,
   "metadata": {},
   "outputs": [],
   "source": [
    "# import the play function\n",
    "from pydub.playback import play\n",
    "# pass the audio file to the play function as this will play the audio file\n",
    "play(wav_file)"
   ]
  },
  {
   "cell_type": "markdown",
   "metadata": {},
   "source": [
    "## Remember Audio Parameters?\n",
    "### You can check the frame_rate, sample width, length and number of channels"
   ]
  },
  {
   "cell_type": "code",
   "execution_count": 2,
   "metadata": {},
   "outputs": [
    {
     "data": {
      "text/plain": [
       "4389"
      ]
     },
     "execution_count": 2,
     "metadata": {},
     "output_type": "execute_result"
    }
   ],
   "source": [
    "# Lets check out a few parameters\n",
    "# length-duration of the audio file in milliseconds\n",
    "len(wav_file)"
   ]
  },
  {
   "cell_type": "code",
   "execution_count": 3,
   "metadata": {},
   "outputs": [
    {
     "data": {
      "text/plain": [
       "48000"
      ]
     },
     "execution_count": 3,
     "metadata": {},
     "output_type": "execute_result"
    }
   ],
   "source": [
    "# frame rate\n",
    "wav_file.frame_rate"
   ]
  },
  {
   "cell_type": "code",
   "execution_count": 4,
   "metadata": {},
   "outputs": [
    {
     "data": {
      "text/plain": [
       "2"
      ]
     },
     "execution_count": 4,
     "metadata": {},
     "output_type": "execute_result"
    }
   ],
   "source": [
    "# number of bytes per sample\n",
    "wav_file.sample_width"
   ]
  },
  {
   "cell_type": "code",
   "execution_count": 5,
   "metadata": {},
   "outputs": [
    {
     "data": {
      "text/plain": [
       "18775"
      ]
     },
     "execution_count": 5,
     "metadata": {},
     "output_type": "execute_result"
    }
   ],
   "source": [
    "# amplitude-loudness of the audio file\n",
    "wav_file.max"
   ]
  },
  {
   "cell_type": "markdown",
   "metadata": {},
   "source": [
    "# Changing Parameters\n",
    "\n",
    "## The audio file parameters can be changed by using the syntax  below\n",
    "### changed_audio_segment = audio_segment.set_ATTRIBUTENAME(value)"
   ]
  },
  {
   "cell_type": "code",
   "execution_count": 7,
   "metadata": {},
   "outputs": [
    {
     "data": {
      "text/plain": [
       "16000"
      ]
     },
     "execution_count": 7,
     "metadata": {},
     "output_type": "execute_result"
    }
   ],
   "source": [
    "# change the frame rate\n",
    "changed_audio_segment = wav_file.set_frame_rate(16000)\n",
    "changed_audio_segment.frame_rate"
   ]
  },
  {
   "cell_type": "code",
   "execution_count": 8,
   "metadata": {},
   "outputs": [
    {
     "name": "stdout",
     "output_type": "stream",
     "text": [
      "New sample width: 1\n"
     ]
    }
   ],
   "source": [
    "# Set sample_width to 1\n",
    "wav_file_sw_1 = wav_file.set_sample_width(1)\n",
    "# Check new sample_width\n",
    "print(f\"New sample width: {wav_file_sw_1.sample_width}\")"
   ]
  },
  {
   "cell_type": "markdown",
   "metadata": {},
   "source": [
    "# NOTE!!\n",
    "###  Lowering the values generally leads to\n",
    "- ## lower audio quality and worse transcriptions\n",
    "### but increasing them may increase the file size but not the quality of the transcription. \n",
    "\n",
    "### Best to explore with different values and find out the ideal tradeoff."
   ]
  },
  {
   "cell_type": "code",
   "execution_count": 10,
   "metadata": {},
   "outputs": [],
   "source": [
    "# Speech recognition works best on clean, audible speech. \n",
    "# If your audio files are too quiet or too loud, it can hinder transcription.\n",
    "\n",
    "# Lower the volume by 60 dB\n",
    "quiet_volume_adjusted = wav_file - 60\n",
    "#play(quiet_volume_adjusted)"
   ]
  },
  {
   "cell_type": "code",
   "execution_count": 14,
   "metadata": {},
   "outputs": [],
   "source": [
    "# Increase the volume by 15 dB\n",
    "louder_volume_adjusted = quiet_volume_adjusted + 15"
   ]
  },
  {
   "cell_type": "markdown",
   "metadata": {},
   "source": [
    "### Sometimes you'll have audio files where the speech is loud in some portions and quiet in others and this variance in volume can hinder transcription.\n",
    "\n",
    "### PyDub's effects module has a function called normalize() which finds the maximum volume of an AudioSegment, then adjusts the rest of the AudioSegment to be in proportion. \n",
    "### This means the quiet parts will get a volume boost."
   ]
  },
  {
   "cell_type": "code",
   "execution_count": 15,
   "metadata": {},
   "outputs": [],
   "source": [
    "# Import AudioSegment and normalize\n",
    "from pydub.effects import normalize\n",
    "# Import target audio file\n",
    "\n",
    "loud_then_quiet = AudioSegment.from_file('sounds/r8_loud_to_quiet.wav')\n",
    "# Normalize target audio file\n",
    "normalized_audio = normalize(loud_then_quiet)\n",
    "#play(normalized_audio)"
   ]
  },
  {
   "cell_type": "markdown",
   "metadata": {},
   "source": [
    "# SLICING AUDIO FILES\n",
    "\n",
    "\n",
    "## Another feature of AudioSegment is that you can slice and combine your audio"
   ]
  },
  {
   "cell_type": "code",
   "execution_count": 16,
   "metadata": {},
   "outputs": [],
   "source": [
    "# import the audio with static \n",
    "static_at_start = AudioSegment.from_file('sounds/r6_static_noise_at_start.wav')\n",
    "\n",
    "# slice the static_at_start using the length of static noise in seconds\n",
    "no_static = static_at_start[4000:]\n",
    "#play(no_static)"
   ]
  },
  {
   "cell_type": "code",
   "execution_count": null,
   "metadata": {},
   "outputs": [],
   "source": [
    "# to combine audio is relatively easy\n",
    "#\n",
    "# combined_audio = audio_1 + audio_2"
   ]
  },
  {
   "cell_type": "markdown",
   "metadata": {},
   "source": [
    "# Splitting stereo audio to mono with PyDub\n",
    "\n",
    "## When transcribing phone calls, there's usually more than one speaker and its difficult to transcribe for multiple speakers.\n",
    "## PyDub's split_to_mono() function can help with this."
   ]
  },
  {
   "cell_type": "code",
   "execution_count": 17,
   "metadata": {},
   "outputs": [
    {
     "name": "stdout",
     "output_type": "stream",
     "text": [
      "Stereo number channels: 2\n"
     ]
    }
   ],
   "source": [
    "# import stereo audio file and check channels\n",
    "stereo_phone_call = AudioSegment.from_file('sounds/ex3_stereo_call.wav')\n",
    "print(f\"Stereo number channels: {stereo_phone_call.channels}\")"
   ]
  },
  {
   "cell_type": "code",
   "execution_count": 18,
   "metadata": {},
   "outputs": [
    {
     "name": "stdout",
     "output_type": "stream",
     "text": [
      "Stereo number channels: 1,1\n"
     ]
    }
   ],
   "source": [
    "# Split stereo phone call and check channels\n",
    "channels = stereo_phone_call.split_to_mono()\n",
    "# now channels is a list object\n",
    "print(f\"Stereo number channels: {channels[0].channels},{channels[1].channels}\")"
   ]
  },
  {
   "cell_type": "code",
   "execution_count": 19,
   "metadata": {},
   "outputs": [],
   "source": [
    "# Save new channels separately\n",
    "phone_call_channel_1 = channels[0]\n",
    "phone_call_channel_2 = channels[1]\n",
    "#play(phone_call_channel_2)\n",
    "# now it will be easy to use the speech api to transcribe the audio"
   ]
  },
  {
   "cell_type": "markdown",
   "metadata": {},
   "source": [
    "# Exporting and reformatting audio files\n",
    "\n",
    "## If your files have the wrong extension, you can use PyDub to export and save them as new audio files\n",
    "\n",
    "### You can do this by using the .export() function on any instance of an AudioSegment you've created. The export() function takes two parameters, out_f, or the destination file path of your audio file and format, the format you'd like your new audio file to be. Both of these are strings. format is \"mp3\" by default so be sure to change it if you need."
   ]
  },
  {
   "cell_type": "code",
   "execution_count": null,
   "metadata": {},
   "outputs": [],
   "source": [
    "# This works if you have installed ffmpeg\n",
    "# Import the .mp3 file\n",
    "mp3_file = AudioSegment.from_file('sounds/r5.mp3')\n",
    "# Export the .mp3 file as wav\n",
    "mp3_file.export(out_f='sounds/r5_welcome.wav',format='wav')"
   ]
  },
  {
   "cell_type": "markdown",
   "metadata": {},
   "source": [
    "# Manipulating multiple audio files with PyDub\n",
    "\n",
    "## You've seen how to convert a single file using PyDub but what if you had a folder with multiple different file types"
   ]
  },
  {
   "cell_type": "code",
   "execution_count": null,
   "metadata": {},
   "outputs": [],
   "source": [
    "# Loop through the files in the folder \n",
    "# create a folder path \n",
    "for audio_file in folder:\n",
    "    \n",
    "\t# Create the new .wav filename   \n",
    "\twav_filename = os.path.splitext(os.path.basename(audio_file))[0] + \".wav\"\n",
    "         \n",
    " \t# Read audio_file and export it in wav format \n",
    "\tAudioSegment.from_file(audio_file).export(out_f=wav_filename,format='wav') \n",
    "print(f\"Creating {wav_filename}...\")\n"
   ]
  },
  {
   "cell_type": "markdown",
   "metadata": {},
   "source": [
    "# An Audio Processing workflow\n",
    "\n",
    "## You've seen how to import and manipulate a single audio file using PyDub. \n",
    "## what if you had a folder with multiple audio files you needed to convert?\n",
    "## Here we'll use PyDub to format a folder with files to be ready to use with speech_recognition.\n",
    "### You find that some files are quieter than others to fix this, we'll use PyDub to cut the static, increase the sound level and convert them to the .wav extension."
   ]
  },
  {
   "cell_type": "code",
   "execution_count": null,
   "metadata": {},
   "outputs": [],
   "source": [
    "import os\n",
    "for audio_file in folder:\n",
    "  \n",
    "  file_with_static = AudioSegment.from_file(audio_file)  \n",
    "    # Cut the 3-seconds of static off \n",
    "    file_without_static = file_with_static[3000:]\n",
    "\n",
    "    # Increase the volume by 10dB\n",
    "    louder_file_without_static = file_without_static + 10\n",
    "\n",
    "    # Create the .wav filename for export  \n",
    "    wav_filename = os.path.splitext(os.path.basename(audio_file))[0] + \".wav\"\n",
    "\n",
    "    # Export the louder file without static as .wav\n",
    "    louder_file_without_static.export(wav_filename, format='wav')\n",
    "print(f\"Creating {wav_filename}...\")\n"
   ]
  }
 ],
 "metadata": {
  "kernelspec": {
   "display_name": "Python 3",
   "language": "python",
   "name": "python3"
  },
  "language_info": {
   "codemirror_mode": {
    "name": "ipython",
    "version": 3
   },
   "file_extension": ".py",
   "mimetype": "text/x-python",
   "name": "python",
   "nbconvert_exporter": "python",
   "pygments_lexer": "ipython3",
   "version": "3.7.0"
  }
 },
 "nbformat": 4,
 "nbformat_minor": 2
}
